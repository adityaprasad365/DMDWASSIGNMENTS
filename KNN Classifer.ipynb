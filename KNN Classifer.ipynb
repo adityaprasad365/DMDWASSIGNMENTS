{
 "cells": [
  {
   "cell_type": "code",
   "execution_count": 6,
   "id": "c1e27e9d",
   "metadata": {},
   "outputs": [
    {
     "name": "stdout",
     "output_type": "stream",
     "text": [
      "Predicted Class: Builder\n"
     ]
    }
   ],
   "source": [
    "import pandas as pd\n",
    "import numpy as np\n",
    "data = {\n",
    "    'Height': [1.70, 1.90, 1.78, 1.73, 1.81, 1.73, 1.80, 1.75],\n",
    "    'Weight': [65, 85, 76, 74, 75, 70, 71, 69],\n",
    "    'Age': [20, 33, 31, 24, 35, 75, 63, 25],\n",
    "    'Class': ['Programmer', 'Builder', 'Builder', 'Programmer', 'Builder', 'Scientist', 'Scientist', 'Programmer']\n",
    "}\n",
    "df = pd.DataFrame(data)\n",
    "new_data_point = {\n",
    "    'Height': 1.69,\n",
    "    'Weight': 75,\n",
    "    'Age': 37,\n",
    "}\n",
    "\n",
    "k = 3 \n",
    "df['Distance'] = np.sqrt(\n",
    "    (df['Height'] - new_data_point['Height'])**2 +\n",
    "    (df['Weight'] - new_data_point['Weight'])**2 +\n",
    "    (df['Age'] - new_data_point['Age'])**2\n",
    ")\n",
    "df = df.sort_values(by='Distance')\n",
    "k_nearest_neighbors = df.head(k)\n",
    "class_counts = k_nearest_neighbors['Class'].value_counts()\n",
    "predicted_class = class_counts.idxmax()\n",
    "\n",
    "print(f\"Predicted Class: {predicted_class}\")"
   ]
  },
  {
   "cell_type": "code",
   "execution_count": null,
   "id": "159d8b89",
   "metadata": {},
   "outputs": [],
   "source": []
  },
  {
   "cell_type": "code",
   "execution_count": null,
   "id": "fd16a5c7",
   "metadata": {},
   "outputs": [],
   "source": []
  }
 ],
 "metadata": {
  "kernelspec": {
   "display_name": "Python 3 (ipykernel)",
   "language": "python",
   "name": "python3"
  },
  "language_info": {
   "codemirror_mode": {
    "name": "ipython",
    "version": 3
   },
   "file_extension": ".py",
   "mimetype": "text/x-python",
   "name": "python",
   "nbconvert_exporter": "python",
   "pygments_lexer": "ipython3",
   "version": "3.11.4"
  }
 },
 "nbformat": 4,
 "nbformat_minor": 5
}
